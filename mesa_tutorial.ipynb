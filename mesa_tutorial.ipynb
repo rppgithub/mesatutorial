{
  "nbformat": 4,
  "nbformat_minor": 0,
  "metadata": {
    "colab": {
      "provenance": [],
      "authorship_tag": "ABX9TyPjb10AfLoC9/OnkLSrXKv6",
      "include_colab_link": true
    },
    "kernelspec": {
      "name": "python3",
      "display_name": "Python 3"
    },
    "language_info": {
      "name": "python"
    }
  },
  "cells": [
    {
      "cell_type": "markdown",
      "metadata": {
        "id": "view-in-github",
        "colab_type": "text"
      },
      "source": [
        "<a href=\"https://colab.research.google.com/github/rppgithub/mesatutorial/blob/main/mesa_tutorial.ipynb\" target=\"_parent\"><img src=\"https://colab.research.google.com/assets/colab-badge.svg\" alt=\"Open In Colab\"/></a>"
      ]
    },
    {
      "cell_type": "code",
      "execution_count": null,
      "metadata": {
        "id": "RlDPw8U3A_Kh"
      },
      "outputs": [],
      "source": []
    },
    {
      "cell_type": "code",
      "source": [
        "!pip install mesa"
      ],
      "metadata": {
        "id": "_yx0ZVaABEHF"
      },
      "execution_count": null,
      "outputs": []
    },
    {
      "cell_type": "markdown",
      "source": [
        "# Import dependencies"
      ],
      "metadata": {
        "id": "GrIs2_5hBiit"
      }
    },
    {
      "cell_type": "code",
      "source": [
        "import mesa\n",
        "import numpy as np\n",
        "import matplotlib.pyplot as plt\n",
        "\n",
        "%matplotlib inline"
      ],
      "metadata": {
        "id": "J5Dxw60YBgDu"
      },
      "execution_count": 2,
      "outputs": []
    },
    {
      "cell_type": "markdown",
      "source": [
        "# resource classes"
      ],
      "metadata": {
        "id": "NUeuzRJONAyo"
      }
    },
    {
      "cell_type": "code",
      "source": [
        "class Sugar(mesa.Agent):\n",
        "  def __init__(self,unique_id,model,pos,max_sugar):\n",
        "\n",
        "    super().__init__(unique_id,model)\n",
        "    self.pos = pos\n",
        "    self.amount=max_sugar\n",
        "    self.max_sugar=max_sugar\n"
      ],
      "metadata": {
        "id": "7ovyLC7YMldV"
      },
      "execution_count": 43,
      "outputs": []
    },
    {
      "cell_type": "code",
      "source": [
        "class Spice(mesa.Agent):\n",
        "  def __init__(self):\n",
        "    print('I am spice')\n"
      ],
      "metadata": {
        "id": "3-MNTHQSMvCO"
      },
      "execution_count": 4,
      "outputs": []
    },
    {
      "cell_type": "markdown",
      "source": [
        "# trader class"
      ],
      "metadata": {
        "id": "xSWfQ8SINZvR"
      }
    },
    {
      "cell_type": "code",
      "source": [
        "class Trader(mesa.Agent):\n",
        "  def __init__(self):\n",
        "    print('I am Trader')"
      ],
      "metadata": {
        "id": "WUpEduZFNJXd"
      },
      "execution_count": 5,
      "outputs": []
    },
    {
      "cell_type": "markdown",
      "source": [
        "# Model class"
      ],
      "metadata": {
        "id": "64AAx7rdRfdV"
      }
    },
    {
      "cell_type": "code",
      "source": [
        "class SugarscapeG1mt(mesa.Model):\n",
        "  def __init__(self,width=50,height=50):\n",
        "    super().__init__()\n",
        "    self.width = width\n",
        "    self.height = height\n",
        "\n",
        "    self.grid = mesa.space.MultiGrid(self.width, self.height, torus=False)\n",
        "    sugar_distribution =np.genfromtxt(\"sugar-map.txt\")\n",
        "    spice_distribution= np.flip(sugar_distribution,1)\n",
        "\n",
        "    agent_id=0\n",
        "    for _,(x,y) in self.grid.coord_iter():\n",
        "        #print(_,(x,y))\n",
        "        max_sugar=sugar_distribution[x,y]\n",
        "        if max_sugar > 0:\n",
        "          sugar=Sugar (agent_id,self,(x,y),max_sugar)\n",
        "\n",
        "          self.grid.place_agent(sugar,(x,y))\n",
        "\n",
        "          agent_id+=1\n",
        "          print(sugar.unique_id,sugar.pos,sugar.max_sugar)\n",
        "\n",
        "\n"
      ],
      "metadata": {
        "id": "KAcJneBcNeL1"
      },
      "execution_count": 55,
      "outputs": []
    },
    {
      "cell_type": "markdown",
      "source": [
        "# Run sugarscape"
      ],
      "metadata": {
        "id": "NR9xPYa3R_lS"
      }
    },
    {
      "cell_type": "code",
      "source": [
        "model = SugarscapeG1mt()"
      ],
      "metadata": {
        "id": "Cynd6kn3Q_GL"
      },
      "execution_count": null,
      "outputs": []
    }
  ]
}